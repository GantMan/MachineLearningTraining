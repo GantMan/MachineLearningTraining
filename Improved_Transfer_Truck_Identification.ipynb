{
  "nbformat": 4,
  "nbformat_minor": 0,
  "metadata": {
    "colab": {
      "name": "Improved Transfer Truck Identification.ipynb",
      "version": "0.3.2",
      "provenance": [],
      "collapsed_sections": [],
      "include_colab_link": true
    },
    "kernelspec": {
      "name": "python3",
      "display_name": "Python 3"
    },
    "accelerator": "GPU"
  },
  "cells": [
    {
      "cell_type": "markdown",
      "metadata": {
        "id": "view-in-github",
        "colab_type": "text"
      },
      "source": [
        "<a href=\"https://colab.research.google.com/github/GantMan/MachineLearningTraining/blob/master/Improved_Transfer_Truck_Identification.ipynb\" target=\"_parent\"><img src=\"https://colab.research.google.com/assets/colab-badge.svg\" alt=\"Open In Colab\"/></a>"
      ]
    },
    {
      "metadata": {
        "id": "oMmBcHXX8By_",
        "colab_type": "text"
      },
      "cell_type": "markdown",
      "source": [
        "## Improved Transfer learning!\n",
        "\n",
        "Let's see if we can do better.   We'll augment our training data, we'll add normalization, smart initialization, and even unlock the last convolutional layer.  \n",
        "\n",
        "We'll do all this with a less sophisticated and fatter model to prove how important tuning is.  We'll be switching from the lean/clean Xception to an older model, and we'll still outperform Xception!\n",
        "\n",
        "![Keras models available](https://i.imgur.com/FbaZLqR.png)\n",
        "\n",
        "#### VGG-16 \n",
        "*Circa 2014* - https://arxiv.org/abs/1409.1556\n",
        "\n",
        "5 convolutional layers followed by 3 dense layers.\n",
        "![VGG16](https://neurohive.io/wp-content/uploads/2018/11/vgg16.png)"
      ]
    },
    {
      "metadata": {
        "id": "eZ9elT_ZsK-z",
        "colab_type": "code",
        "colab": {}
      },
      "cell_type": "code",
      "source": [
        "from pathlib import Path\n",
        "import numpy as np\n",
        "import joblib\n",
        "from keras.preprocessing import image\n",
        "# Simple pre-trained model\n",
        "from keras.applications import VGG16"
      ],
      "execution_count": 0,
      "outputs": []
    },
    {
      "metadata": {
        "id": "a_FpomKPFOPY",
        "colab_type": "text"
      },
      "cell_type": "markdown",
      "source": [
        "Know that there's nothing special about the tensor order.  In some cases Theano is used (th) and for our cases TensorFlow ordering (tf) is used.  "
      ]
    },
    {
      "metadata": {
        "id": "brcfdslST01P",
        "colab_type": "code",
        "colab": {}
      },
      "cell_type": "code",
      "source": [
        "from keras import backend as K\n",
        "K.set_image_dim_ordering('tf') # tensor flow\n",
        "# x_train will be (60000, 32, 32, 3)\n",
        "# but good to know setting to 'th' in some needs\n",
        "# changes x_train to (60000, 3, 32, 32)"
      ],
      "execution_count": 0,
      "outputs": []
    },
    {
      "metadata": {
        "id": "Y0JacLx18spL",
        "colab_type": "code",
        "colab": {}
      },
      "cell_type": "code",
      "source": [
        "from keras.datasets import cifar10\n",
        "# Load data set from CIFAR-10 again\n",
        "(x_train, y_train), (x_test, y_test) = cifar10.load_data()\n",
        "\n",
        "\n",
        "# We'll be separating a test set differently this time\n",
        "# So let's combine back in our test data\n",
        "x_train = np.concatenate((x_train, x_test))\n",
        "y_train = np.concatenate((y_train, y_test))"
      ],
      "execution_count": 0,
      "outputs": []
    },
    {
      "metadata": {
        "id": "sjICs_uaF65L",
        "colab_type": "code",
        "colab": {
          "base_uri": "https://localhost:8080/",
          "height": 34
        },
        "outputId": "4299546e-f7c8-4219-9b81-fc9ba5da6835"
      },
      "cell_type": "code",
      "source": [
        "x_train.shape"
      ],
      "execution_count": 26,
      "outputs": [
        {
          "output_type": "execute_result",
          "data": {
            "text/plain": [
              "(60000, 32, 32, 3)"
            ]
          },
          "metadata": {
            "tags": []
          },
          "execution_count": 26
        }
      ]
    },
    {
      "metadata": {
        "id": "VLpnFADitL2B",
        "colab_type": "code",
        "colab": {}
      },
      "cell_type": "code",
      "source": [
        "# adjust it so instead it sets all trucks to true and everything else to false\n",
        "# broadcast boolean logic througout dataset\n",
        "y_train = y_train == 9\n",
        "y_test = y_test == 9\n",
        "# prepare x to be normalized (between 0 and 1)\n",
        "x_train = x_train.astype('float32')\n",
        "x_test = x_test.astype('float32')\n",
        "x_train /= 255\n",
        "x_test /= 255"
      ],
      "execution_count": 0,
      "outputs": []
    },
    {
      "metadata": {
        "id": "mutPpRjY4sn1",
        "colab_type": "code",
        "colab": {}
      },
      "cell_type": "code",
      "source": [
        "x_train.shape"
      ],
      "execution_count": 0,
      "outputs": []
    },
    {
      "metadata": {
        "id": "_dfLKEyc-ma0",
        "colab_type": "code",
        "colab": {}
      },
      "cell_type": "code",
      "source": [
        "conv_base = VGG16(weights='imagenet',\n",
        "                  include_top=False,\n",
        "                  input_shape=(32, 32, 3)\n",
        "                  )\n",
        "\n",
        "# Let's see it\n",
        "print(conv_base.summary())"
      ],
      "execution_count": 0,
      "outputs": []
    },
    {
      "metadata": {
        "id": "CLnIyDUmgm1j",
        "colab_type": "code",
        "colab": {}
      },
      "cell_type": "code",
      "source": [
        "from keras.models import Sequential\n",
        "from keras.layers import Dense, Dropout, Flatten\n",
        "from keras import initializers, regularizers"
      ],
      "execution_count": 0,
      "outputs": []
    },
    {
      "metadata": {
        "id": "S_K47755IioF",
        "colab_type": "text"
      },
      "cell_type": "markdown",
      "source": [
        "Sequential models don't have to use `add` over and over, just alike an array doesn't need to use `push` over and over.   You can open an array parameter to your Seqential model to  simplify the readability of the layers that you're adding.  Each item in the array is a new property.  I say `property` here, because ML experts are very particular on what is known as a \"layer\" or not.  Technically \"Pool\", \"Dropout\", and \"Flatten\" don't count."
      ]
    },
    {
      "metadata": {
        "id": "tmqntM3beGXY",
        "colab_type": "code",
        "colab": {}
      },
      "cell_type": "code",
      "source": [
        "\n",
        "model = Sequential([\n",
        "    conv_base,\n",
        "    Flatten(),\n",
        "    Dense(128, activation='relu', kernel_regularizer=regularizers.l2(0.01), kernel_initializer=initializers.he_normal(seed=None)),\n",
        "    Dropout(0.5),\n",
        "    Dense(1, activation='sigmoid')\n",
        "])\n"
      ],
      "execution_count": 0,
      "outputs": []
    },
    {
      "metadata": {
        "id": "CxtbTzufcSEB",
        "colab_type": "code",
        "colab": {}
      },
      "cell_type": "code",
      "source": [
        "print(\"Trainable weights = \" + str(len(model.trainable_weights)))\n",
        "print(model.summary())\n",
        "conv_base.trainable = False\n",
        "print(\"New trainable weights = \" + str(len(model.trainable_weights)))"
      ],
      "execution_count": 0,
      "outputs": []
    },
    {
      "metadata": {
        "id": "Q-899rCXgS1n",
        "colab_type": "code",
        "colab": {}
      },
      "cell_type": "code",
      "source": [
        "model.compile(\n",
        "  loss ='binary_crossentropy',\n",
        "  optimizer = 'adam',\n",
        "  metrics=['accuracy']\n",
        ")"
      ],
      "execution_count": 0,
      "outputs": []
    },
    {
      "metadata": {
        "id": "LHvd_RPo12Ol",
        "colab_type": "text"
      },
      "cell_type": "markdown",
      "source": [
        "Use x_train instead of features, because our model is fully built!"
      ]
    },
    {
      "metadata": {
        "id": "hn5OtNJ4g335",
        "colab_type": "code",
        "colab": {}
      },
      "cell_type": "code",
      "source": [
        "history = model.fit(\n",
        "  x_train,\n",
        "  y_train,\n",
        "  validation_split=0.05,\n",
        "  epochs=10,\n",
        "  shuffle=True\n",
        ")"
      ],
      "execution_count": 0,
      "outputs": []
    },
    {
      "metadata": {
        "id": "zqqUjVPhmDU8",
        "colab_type": "text"
      },
      "cell_type": "markdown",
      "source": [
        "Hrmmmmm close but not as good as we Xception could get us, even if Xception easily overfit our data!  Let's do some fine-tuning to our model\n",
        "\n",
        "### **But first graph the previous results!**\n"
      ]
    },
    {
      "metadata": {
        "id": "YnY1xDelmKYd",
        "colab_type": "code",
        "colab": {}
      },
      "cell_type": "code",
      "source": [
        "import matplotlib.pyplot as plt\n",
        "acc = history.history['acc']\n",
        "val_acc = history.history['val_acc']\n",
        "loss = history.history['loss']\n",
        "val_loss = history.history['val_loss']\n",
        "\n",
        "epochs = range(1, len(acc) + 1)\n",
        "\n",
        "plt.plot(epochs, acc, 'bo', label='Training accuracy')\n",
        "plt.plot(epochs, val_acc, 'b', label='Validation accuracy')\n",
        "plt.title('Training and Validation Accuracy')\n",
        "plt.legend()\n",
        "\n",
        "plt.figure()\n",
        "\n",
        "plt.plot(epochs, loss, 'bo', label='Training loss')\n",
        "plt.plot(epochs, val_loss, 'b', label='Validation loss')\n",
        "plt.title('Training and Validation Loss')\n",
        "plt.legend()\n",
        "\n",
        "plt.figure()"
      ],
      "execution_count": 0,
      "outputs": []
    },
    {
      "metadata": {
        "id": "lLAqVdeuyr4D",
        "colab_type": "code",
        "colab": {}
      },
      "cell_type": "code",
      "source": [
        "# Everything from block5_conv1 down becomes trainable now\n",
        "conv_base.trainable = True\n",
        "\n",
        "set_trainable = False\n",
        "for layer in conv_base.layers:\n",
        "    if layer.name == 'block5_conv1':\n",
        "        set_trainable = True\n",
        "    if set_trainable:\n",
        "        layer.trainable = True\n",
        "    else:\n",
        "        layer.trainable = False"
      ],
      "execution_count": 0,
      "outputs": []
    },
    {
      "metadata": {
        "id": "mP9auq7GMJpp",
        "colab_type": "text"
      },
      "cell_type": "markdown",
      "source": [
        "One way we can make sure our dataset generalizes well, is by slightly changing our examples with image augmentation.  By changing the lighting, angle, saturation etc. we can pretend we took multiple photos of the same identifiable thing.\n",
        "\n",
        "![augmentation](https://raw.githubusercontent.com/aleju/imgaug-doc/master/readme_images/examples_grid.jpg?raw=true =500x)\n",
        "\n",
        "Data augmentation slows down the training process and usually requires that you have a GPU to reasonably process these in a speedy manner."
      ]
    },
    {
      "metadata": {
        "id": "fScuSSHWqgSn",
        "colab_type": "code",
        "colab": {}
      },
      "cell_type": "code",
      "source": [
        "from keras.preprocessing.image import ImageDataGenerator\n",
        "\n",
        "train_datagen = ImageDataGenerator(\n",
        "      rotation_range=30,\n",
        "      width_shift_range=0.2,\n",
        "      height_shift_range=0.2,\n",
        "      shear_range=0.2,\n",
        "      zoom_range=0.2,\n",
        "      horizontal_flip=True,\n",
        "      fill_mode='nearest'\n",
        ")\n",
        "\n",
        "# Validation data should not be modified\n",
        "# Unless of course you have yet to divide by 255\n",
        "# in that case both training and validation can\n",
        "# be normalized with `adding rescale=1./255,`\n",
        "validation_datagen = ImageDataGenerator()"
      ],
      "execution_count": 0,
      "outputs": []
    },
    {
      "metadata": {
        "id": "T2eH4WXSuwx7",
        "colab_type": "code",
        "colab": {}
      },
      "cell_type": "code",
      "source": [
        "model.compile(\n",
        "  loss ='binary_crossentropy',\n",
        "  optimizer = 'adam',\n",
        "  metrics=['accuracy']\n",
        ")"
      ],
      "execution_count": 0,
      "outputs": []
    },
    {
      "metadata": {
        "id": "LBznVX2jOSyl",
        "colab_type": "text"
      },
      "cell_type": "markdown",
      "source": [
        "We'll be generating using `.flow`, for our in-memmory data, but if your files are on disk, you can use `flow_from_directory`, which has it's own parameters and batching process into memmory.\n",
        "\n",
        "Read more:  https://keras.io/preprocessing/image/"
      ]
    },
    {
      "metadata": {
        "id": "PjBsZova7EBK",
        "colab_type": "code",
        "colab": {}
      },
      "cell_type": "code",
      "source": [
        "GENERATOR_BATCH_SIZE = 32\n",
        "\n",
        "train_generator = train_datagen.flow(\n",
        "  x_train, \n",
        "  y_train,\n",
        "  batch_size=GENERATOR_BATCH_SIZE\n",
        ")\n",
        "\n",
        "validation_generator = validation_datagen.flow(\n",
        "  x_test,\n",
        "  y_test,\n",
        "  batch_size=GENERATOR_BATCH_SIZE\n",
        ")"
      ],
      "execution_count": 0,
      "outputs": []
    },
    {
      "metadata": {
        "id": "FzJSk3hSrONB",
        "colab_type": "code",
        "colab": {
          "base_uri": "https://localhost:8080/",
          "height": 357
        },
        "outputId": "08c56bc1-a69c-41b9-8d3d-5598eb00a860"
      },
      "cell_type": "code",
      "source": [
        "history = model.fit_generator(\n",
        "  train_generator,\n",
        "  epochs=10,\n",
        "  steps_per_epoch=len(x_train) / GENERATOR_BATCH_SIZE,\n",
        "  shuffle=True,\n",
        "  validation_data=validation_generator,\n",
        "  validation_steps=len(x_train) / GENERATOR_BATCH_SIZE\n",
        ")"
      ],
      "execution_count": 40,
      "outputs": [
        {
          "output_type": "stream",
          "text": [
            "Epoch 1/10\n",
            "1875/1875 [==============================] - 105s 56ms/step - loss: 0.6754 - acc: 0.9023 - val_loss: 0.1788 - val_acc: 0.9108\n",
            "Epoch 2/10\n",
            "1875/1875 [==============================] - 103s 55ms/step - loss: 0.2171 - acc: 0.9115 - val_loss: 0.1660 - val_acc: 0.9317\n",
            "Epoch 3/10\n",
            "1875/1875 [==============================] - 102s 55ms/step - loss: 0.2019 - acc: 0.9188 - val_loss: 0.1373 - val_acc: 0.9492\n",
            "Epoch 4/10\n",
            "1875/1875 [==============================] - 103s 55ms/step - loss: 0.1916 - acc: 0.9262 - val_loss: 0.1315 - val_acc: 0.9521\n",
            "Epoch 5/10\n",
            "1875/1875 [==============================] - 103s 55ms/step - loss: 0.1853 - acc: 0.9282 - val_loss: 0.1493 - val_acc: 0.9461\n",
            "Epoch 6/10\n",
            "1875/1875 [==============================] - 102s 54ms/step - loss: 0.1824 - acc: 0.9285 - val_loss: 0.1230 - val_acc: 0.9548\n",
            "Epoch 7/10\n",
            "1875/1875 [==============================] - 101s 54ms/step - loss: 0.1813 - acc: 0.9299 - val_loss: 0.1355 - val_acc: 0.9547\n",
            "Epoch 8/10\n",
            "1875/1875 [==============================] - 102s 54ms/step - loss: 0.1756 - acc: 0.9322 - val_loss: 0.1264 - val_acc: 0.9560\n",
            "Epoch 9/10\n",
            "1875/1875 [==============================] - 101s 54ms/step - loss: 0.1733 - acc: 0.9322 - val_loss: 0.1299 - val_acc: 0.9519\n",
            "Epoch 10/10\n",
            "1875/1875 [==============================] - 101s 54ms/step - loss: 0.1706 - acc: 0.9322 - val_loss: 0.1401 - val_acc: 0.9464\n"
          ],
          "name": "stdout"
        }
      ]
    },
    {
      "metadata": {
        "id": "f4_IM4gR2KRi",
        "colab_type": "text"
      },
      "cell_type": "markdown",
      "source": [
        "### Let's test"
      ]
    },
    {
      "metadata": {
        "id": "N844BAol-5wz",
        "colab_type": "code",
        "colab": {
          "base_uri": "https://localhost:8080/",
          "height": 741
        },
        "outputId": "eb43e01d-0d70-4bd6-930b-223fa80ef897"
      },
      "cell_type": "code",
      "source": [
        "import matplotlib.pyplot as plt\n",
        "acc = history.history['acc']\n",
        "val_acc = history.history['val_acc']\n",
        "loss = history.history['loss']\n",
        "val_loss = history.history['val_loss']\n",
        "\n",
        "epochs = range(1, len(acc) + 1)\n",
        "\n",
        "plt.plot(epochs, acc, 'bo', label='Training accuracy')\n",
        "plt.plot(epochs, val_acc, 'b', label='Validation accuracy')\n",
        "plt.title('Training and Validation Accuracy')\n",
        "plt.legend()\n",
        "\n",
        "plt.figure()\n",
        "\n",
        "plt.plot(epochs, loss, 'bo', label='Training loss')\n",
        "plt.plot(epochs, val_loss, 'b', label='Validation loss')\n",
        "plt.title('Training and Validation Loss')\n",
        "plt.legend()\n",
        "\n",
        "plt.figure()"
      ],
      "execution_count": 41,
      "outputs": [
        {
          "output_type": "execute_result",
          "data": {
            "text/plain": [
              "<matplotlib.figure.Figure at 0x7f4bd9e90278>"
            ]
          },
          "metadata": {
            "tags": []
          },
          "execution_count": 41
        },
        {
          "output_type": "display_data",
          "data": {
            "image/png": "[encoded data removed]",
            "text/plain": [
              "<matplotlib.figure.Figure at 0x7f4bd9f135c0>"
            ]
          },
          "metadata": {
            "tags": []
          }
        },
        {
          "output_type": "display_data",
          "data": {
            "image/png": "[encoded data removed]",
            "text/plain": [
              "<matplotlib.figure.Figure at 0x7f4bd9ebd358>"
            ]
          },
          "metadata": {
            "tags": []
          }
        },
        {
          "output_type": "display_data",
          "data": {
            "text/plain": [
              "<matplotlib.figure.Figure at 0x7f4bd9e90278>"
            ]
          },
          "metadata": {
            "tags": []
          }
        }
      ]
    },
    {
      "metadata": {
        "id": "frkt3TT_Zdni",
        "colab_type": "text"
      },
      "cell_type": "markdown",
      "source": [
        "# SUCCESS!!!\n",
        "\n",
        "### This smaller model has mid-nineties accuracy!   That's some serious tuning!\n",
        "\n",
        "#### We beat a non-tuned Xception model using tuning, augmentation, and normalization.\n",
        "\n",
        "\n",
        "---\n",
        "\n",
        "\n",
        "\n",
        "## Now let's review precision and recall\n",
        "![precision and recall](https://upload.wikimedia.org/wikipedia/commons/thumb/2/26/Precisionrecall.svg/800px-Precisionrecall.svg.png =600x)"
      ]
    },
    {
      "metadata": {
        "id": "8G0E6P-e2OJr",
        "colab_type": "code",
        "colab": {
          "base_uri": "https://localhost:8080/",
          "height": 187
        },
        "outputId": "c9eea869-40de-464e-e9f0-ac92951be825"
      },
      "cell_type": "code",
      "source": [
        "from sklearn.metrics import classification_report\n",
        "\n",
        "predictions = model.predict(x_test, batch_size=32, verbose=1)\n",
        "# If the model is more than 50% sure the object is a truck, call it a truck.\n",
        "# Otherwise, call it \"not a truck\" via boolean\n",
        "predictions = predictions > 0.5\n",
        "\n",
        "# Calculate Precision and Recall for each class\n",
        "report = classification_report(y_test, predictions)\n",
        "print(report)"
      ],
      "execution_count": 42,
      "outputs": [
        {
          "output_type": "stream",
          "text": [
            "10000/10000 [==============================] - 5s 539us/step\n",
            "              precision    recall  f1-score   support\n",
            "\n",
            "       False       0.98      0.96      0.97      9000\n",
            "        True       0.70      0.83      0.76      1000\n",
            "\n",
            "   micro avg       0.95      0.95      0.95     10000\n",
            "   macro avg       0.84      0.89      0.86     10000\n",
            "weighted avg       0.95      0.95      0.95     10000\n",
            "\n"
          ],
          "name": "stdout"
        }
      ]
    },
    {
      "metadata": {
        "id": "By4j8UXVAJf0",
        "colab_type": "text"
      },
      "cell_type": "markdown",
      "source": [
        ""
      ]
    },
    {
      "metadata": {
        "id": "rCMFF4zCANf-",
        "colab_type": "code",
        "colab": {
          "base_uri": "https://localhost:8080/",
          "height": 430
        },
        "outputId": "d7d24f1b-1ad4-4d56-b1f1-644f20214772"
      },
      "cell_type": "code",
      "source": [
        "import pandas as pd\n",
        "import seaborn as sns\n",
        "\n",
        "\n",
        "train_data = {\n",
        "    'train': y_train.flatten()\n",
        "}\n",
        "\n",
        "df = pd.DataFrame(train_data)\n",
        "ax = sns.countplot(x = 'train', data=df).set_title(\"Distirubtion of the labels in the training set\")"
      ],
      "execution_count": 17,
      "outputs": [
        {
          "output_type": "stream",
          "text": [
            "/usr/local/lib/python3.6/dist-packages/seaborn/categorical.py:1428: FutureWarning: remove_na is deprecated and is a private function. Do not use.\n",
            "  stat_data = remove_na(group_data)\n"
          ],
          "name": "stderr"
        },
        {
          "output_type": "display_data",
          "data": {
            "image/png": "[encoded data removed]",
            "text/plain": [
              "<matplotlib.figure.Figure at 0x7fbea973ee80>"
            ]
          },
          "metadata": {
            "tags": []
          }
        }
      ]
    },
    {
      "metadata": {
        "id": "N2mZW2WJJll3",
        "colab_type": "code",
        "colab": {
          "base_uri": "https://localhost:8080/",
          "height": 430
        },
        "outputId": "f07e2d5e-818f-469b-9688-17a44cf92798"
      },
      "cell_type": "code",
      "source": [
        "test_data = {\n",
        "    'test': y_test.flatten()\n",
        "}\n",
        "\n",
        "df = pd.DataFrame(test_data)\n",
        "ax = sns.countplot(x = 'test', data=df).set_title(\"Distirubtion of the labels in the validation set\")"
      ],
      "execution_count": 22,
      "outputs": [
        {
          "output_type": "stream",
          "text": [
            "/usr/local/lib/python3.6/dist-packages/seaborn/categorical.py:1428: FutureWarning: remove_na is deprecated and is a private function. Do not use.\n",
            "  stat_data = remove_na(group_data)\n"
          ],
          "name": "stderr"
        },
        {
          "output_type": "display_data",
          "data": {
            "image/png": "[encoded data removed]",
            "text/plain": [
              "<matplotlib.figure.Figure at 0x7fbea635cfd0>"
            ]
          },
          "metadata": {
            "tags": []
          }
        }
      ]
    },
    {
      "metadata": {
        "id": "KmFz_ugVKKMe",
        "colab_type": "text"
      },
      "cell_type": "markdown",
      "source": [
        "## Next steps?\n",
        "\n",
        "Gather more truck examples, or possibly create more augmented true examples to balance out the input.  It really depends on the need."
      ]
    },
    {
      "metadata": {
        "id": "PPtStPLvEL13",
        "colab_type": "text"
      },
      "cell_type": "markdown",
      "source": [
        "We can now save this model for use!"
      ]
    },
    {
      "metadata": {
        "id": "PDIVhOgDhHPB",
        "colab_type": "code",
        "colab": {}
      },
      "cell_type": "code",
      "source": [
        "# Save it for later\n",
        "model.save(\"truck_classifier_model.h5\")"
      ],
      "execution_count": 0,
      "outputs": []
    },
    {
      "metadata": {
        "id": "OFkB1vksfZrL",
        "colab_type": "text"
      },
      "cell_type": "markdown",
      "source": [
        "**Even download it to your machine!**"
      ]
    },
    {
      "metadata": {
        "id": "vAafG-KbfKcB",
        "colab_type": "code",
        "colab": {}
      },
      "cell_type": "code",
      "source": [
        "from google.colab import files\n",
        "\n",
        "files.download('truck_classifier_model.h5')"
      ],
      "execution_count": 0,
      "outputs": []
    },
    {
      "metadata": {
        "id": "2R49dRobfQve",
        "colab_type": "code",
        "colab": {}
      },
      "cell_type": "code",
      "source": [
        ""
      ],
      "execution_count": 0,
      "outputs": []
    }
  ]
}